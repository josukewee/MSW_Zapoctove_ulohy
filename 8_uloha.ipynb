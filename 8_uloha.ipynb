{
 "cells": [
  {
   "cell_type": "code",
   "execution_count": 1,
   "metadata": {},
   "outputs": [],
   "source": [
    "def forward_derivate(f, x0, h):\n",
    "    return (f(x0+h) - f(x0))/h\n",
    "\n",
    "def backward_derivate(f, x0, h):\n",
    "    return (f(x0) - f(x0-h))/h\n",
    "\n",
    "def central_derivate(f, x0, h):\n",
    "    return (f(x0+h) - f(x0-h))/(2*h)\n",
    "\n",
    "def forward_derivate_adaptive(f, x0, h_adaptive):\n",
    "    return (f(x0+h_adaptive) - f(x0))/h_adaptive\n",
    "\n",
    "def backward_derivate_adaptive(f, x0, h_adaptive):\n",
    "    return (f(x0) - f(x0-h_adaptive))/h_adaptive\n",
    "\n",
    "def central_derivate_adaptive(f, x0, h_adaptive):\n",
    "    return (f(x0+h_adaptive) - f(x0-h_adaptive))/(2*h_adaptive)\n",
    "\n",
    "#Function and adaptive step\n",
    "f = lambda x: x**2 * 5*x + 2\n",
    "x0 = 2\n",
    "h = 0.1\n",
    "h_adaptive = float(input(\"Insert adaptive step: \"))\n",
    "\n",
    "print(f\"Without the given step for forward: {forward_derivate(f, x0, h)}, with the given step for forward: {forward_derivate_adaptive(f, x0, h_adaptive)}\")\n",
    "print(f\"Without the given step for backward: {backward_derivate(f, x0, h)}, with the given step for backward: {backward_derivate_adaptive(f, x0, h_adaptive)}\")\n",
    "print(f\"Without the given step for central: {central_derivate(f, x0, h)}, with the given step for central: {central_derivate_adaptive(f, x0, h_adaptive)}\")\n"
   ]
  }
 ],
 "metadata": {
  "kernelspec": {
   "display_name": "MSW_Zapoctove_ulohy",
   "language": "python",
   "name": "python3"
  },
  "language_info": {
   "codemirror_mode": {
    "name": "ipython",
    "version": 3
   },
   "file_extension": ".py",
   "mimetype": "text/x-python",
   "name": "python",
   "nbconvert_exporter": "python",
   "pygments_lexer": "ipython3",
   "version": "3.11.9"
  }
 },
 "nbformat": 4,
 "nbformat_minor": 2
}
