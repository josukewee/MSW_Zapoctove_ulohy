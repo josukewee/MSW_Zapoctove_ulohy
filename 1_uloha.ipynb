{
 "cells": [
  {
   "cell_type": "code",
   "execution_count": 1,
   "metadata": {},
   "outputs": [
    {
     "name": "stdout",
     "output_type": "stream",
     "text": [
      "[[-7, 3, 2, 7, -8, -8, -6, 8, 3, 5], [10, 0, -9, -3, -7, -8, -2, -3, 3, 2], [7, 0, 6, -6, -1, -10, 4, 6, 4, 9], [6, -8, 0, 10, 7, 1, 6, 4, -6, -10], [-8, -2, -10, 4, -9, 3, -10, -10, -10, -4], [-8, -5, -1, -3, -8, 0, 7, -7, -2, 3], [4, 9, 4, 7, 10, -4, 4, 10, 6, 7], [5, 1, -10, -10, -2, 5, 3, -5, -9, 2], [6, 4, -5, -4, 3, -4, 8, -10, 3, -8], [-2, -1, 8, -8, -8, 0, -6, 0, 1, 3]]     [[-6, 1, 10, 9, 2, -4, 9, -1, -9, -7], [2, 6, 10, 4, 8, -1, 6, 4, -10, 5], [1, 6, 9, 10, 0, 9, 7, -1, 1, 4], [-5, 3, -6, 6, 5, 2, -5, 9, -8, -8], [-8, -6, -2, -3, 0, 1, 2, 9, 5, 9], [-2, 7, 4, -5, 3, -10, -9, 5, 0, -10], [-9, 2, 3, 9, -4, 2, -8, 5, -8, -5], [-8, -6, 2, 2, 1, -1, 3, 6, 9, -2], [1, 8, 8, -10, 5, 1, 4, 6, 10, 10], [-2, -4, -4, 2, 0, 7, -7, -9, 10, -6]]\n",
      "[[78, -20, -78, 17, 68, 147, 39, -41, 139, 38], [59, -37, 23, -7, 1, -38, 105, -159, -71, -31], [-76, -71, 142, 166, -36, 182, 162, -127, 138, 68], [-232, -67, -72, 158, -49, -67, -29, 228, -191, -147], [248, -17, -298, -162, -23, -135, -181, -154, -145, -143], [101, 23, -126, -21, -116, 54, -216, -156, -4, -80], [-233, -17, 140, 154, 127, 128, 112, 214, 60, 85], [18, -76, -27, -19, -79, -167, -107, -161, -134, -165], [-2, 74, 117, 13, -15, -65, 79, 56, -256, 115], [171, 48, 84, -24, -23, 67, 87, -205, 148, 55]] 0.006146499999886146\n",
      "Matrix1 shape: (10, 10) Matrix2 shape:  (10, 10) Matrix3 shape:  (10, 10) 0.0058199000004606205\n",
      "[[  78  -20  -78   17   68  147   39  -41  139   38]\n",
      " [  59  -37   23   -7    1  -38  105 -159  -71  -31]\n",
      " [ -76  -71  142  166  -36  182  162 -127  138   68]\n",
      " [-232  -67  -72  158  -49  -67  -29  228 -191 -147]\n",
      " [ 248  -17 -298 -162  -23 -135 -181 -154 -145 -143]\n",
      " [ 101   23 -126  -21 -116   54 -216 -156   -4  -80]\n",
      " [-233  -17  140  154  127  128  112  214   60   85]\n",
      " [  18  -76  -27  -19  -79 -167 -107 -161 -134 -165]\n",
      " [  -2   74  117   13  -15  -65   79   56 -256  115]\n",
      " [ 171   48   84  -24  -23   67   87 -205  148   55]]\n"
     ]
    },
    {
     "ename": "",
     "evalue": "",
     "output_type": "error",
     "traceback": [
      "\u001b[1;31mThe Kernel crashed while executing code in the current cell or a previous cell. \n",
      "\u001b[1;31mPlease review the code in the cell(s) to identify a possible cause of the failure. \n",
      "\u001b[1;31mClick <a href='https://aka.ms/vscodeJupyterKernelCrash'>here</a> for more info. \n",
      "\u001b[1;31mView Jupyter <a href='command:jupyter.viewOutput'>log</a> for further details."
     ]
    }
   ],
   "source": [
    "import timeit\n",
    "import time\n",
    "\n",
    "## Násobení matic\n",
    "\n",
    "import math, random\n",
    "import numpy as np\n",
    "\n",
    "# Pure python doesn't have class Matrix, so i will define it with \"nasobeni matic\" as a method.\n",
    "\n",
    "class Matrix:\n",
    "\n",
    "    # Dunder methods. __len__ method is used to define len of matrix, __getitem__ method makes possible to itarate through matrices' values.\n",
    "    def __init__(self, rows, columns):\n",
    "        self.rows = rows\n",
    "        self.columns = columns\n",
    "        self.matrix = self.vytvori_matice(rows, columns)\n",
    "\n",
    "    def __str__(self):\n",
    "        matrix_str = \"[\"\n",
    "        for i, row in enumerate(self.matrix):\n",
    "            row_str = \" \".join(f\"{n:3}\" for n in row)\n",
    "            if i == self.rows - 1:\n",
    "                matrix_str += f\" [{row_str}]]\\n\"\n",
    "            else:\n",
    "                matrix_str += f\" [{row_str}]\\n\"\n",
    "        return matrix_str\n",
    "\n",
    "    def __len__(self):\n",
    "        return len(self.matrix)\n",
    "\n",
    "    def __getitem__(self, item):\n",
    "        return self.matrix[item]\n",
    "\n",
    "    def vytvori_matice(self, r, c):\n",
    "        matrix = []\n",
    "        for i in range(r):\n",
    "            row = []\n",
    "            for j in range(c):\n",
    "                row.append(random.randint(-10, 10))\n",
    "            matrix.append(row)\n",
    "        return matrix\n",
    "\n",
    "\n",
    "    def nasobeni_matic(self, matrix):\n",
    "        result = [[0 for j in range(len(matrix[i]))] for i in range(len(self.matrix))]\n",
    "        for i in range(len(self.matrix)):\n",
    "            for j in range(len(matrix[0])):\n",
    "                for k in range(len(matrix)):\n",
    "                    result[i][j] += self.matrix[i][k] * matrix[k][j]\n",
    "        return result\n",
    "    \n",
    "    def scalar_multiplication(self, scalar):\n",
    "        return [[scalar*a for a in row] for row in self.matrix]\n",
    "\n",
    "\n",
    "\n",
    "m=Matrix(10,10)\n",
    "m1=Matrix(10,10)\n",
    "\n",
    "\n",
    "print(m.matrix, \"   \", m1.matrix, )\n",
    "print(m.nasobeni_matic(m1), timeit.timeit(stmt=''))\n",
    "\n",
    "# Matrices multiplication powered by numpy with the same matrieces.\n",
    "\n",
    "arr1 = np.array(m.matrix)\n",
    "arr2 = np.array(m1.matrix)\n",
    "mul = np.matmul(arr1, arr2)\n",
    "print(\"Matrix1 shape:\",arr1.shape,\"Matrix2 shape: \", arr2.shape,\"Matrix3 shape: \", mul.shape, timeit.timeit(stmt=''))\n",
    "\n",
    "print(mul)\n",
    "\n",
    "\n"
   ]
  },
  {
   "cell_type": "code",
   "execution_count": 52,
   "metadata": {},
   "outputs": [
    {
     "name": "stdout",
     "output_type": "stream",
     "text": [
      "5.25 µs ± 132 ns per loop (mean ± std. dev. of 7 runs, 100,000 loops each)\n",
      "1.28 µs ± 35 ns per loop (mean ± std. dev. of 7 runs, 1,000,000 loops each)\n"
     ]
    }
   ],
   "source": [
    "##skalární součin\n",
    "\n",
    "## pure python \n",
    "scalar1 = 10\n",
    "%timeit m.scalar_multiplication(scalar1)\n",
    "\n",
    "## using numpy\n",
    "%timeit arr1 * scalar1\n",
    "\n"
   ]
  },
  {
   "cell_type": "code",
   "execution_count": 28,
   "metadata": {},
   "outputs": [
    {
     "name": "stdout",
     "output_type": "stream",
     "text": [
      "Sizes: [ 10  20  30  40  50  60  70  80  90 100 110 120 130 140 150 160 170 180\n",
      " 190 200]\n",
      "Execution times for prima_metoda: [0.00010279999878548551, 0.0008309999993798556, 0.00043060000098193996, 0.0006033999998180661, 0.0010639000010996824, 0.0011602999984461349, 0.0031808000003366033, 0.00330980000035197, 0.0016015999990486307, 0.0018555999995442107, 0.0017888000002130866, 0.0021011999997426756, 0.01116339999862248, 0.0025574999999662396, 0.0029173000002629124, 0.003490500001134933, 0.0034414000001561362, 0.014517300000079558, 0.0037998999996489147, 0.010709100000894978]\n",
      "Execution times for jacobi: [0.00048779999997350387, 0.00039739999920129776, 0.00043759999971371144, 0.00048099999912665226, 0.0007773000015731668, 0.000797100001364015, 0.0027445999985502567, 0.0026501000011194265, 0.0033375000002706656, 0.004547200000160956, 0.004416499999933876, 0.004916299998512841, 0.005686299999069888, 0.006912700000611949, 0.007482500001060544, 0.007650899999134708, 0.013479500001267297, 0.00949169999876176, 0.01370630000019446, 0.013102999999318854]\n"
     ]
    }
   ],
   "source": [
    "\n",
    "\n",
    "######\n",
    "\n",
    "#Porovnání času, potřebného k nalezení uspokojivého řešení soustav lineárních rovnic\n",
    "# pomoci iterační a přímé metody.\n",
    "\n",
    "def jacobi(a, b, niteraci, x0=None):\n",
    "    if x0 is None:\n",
    "        x0 = np.ones(len(a))\n",
    "    x = x0\n",
    "    D = np.diag(a)\n",
    "    L = np.tril(a, k=-1)\n",
    "    U = np.triu(a, k=1)\n",
    "    for i in range(niteraci):\n",
    "        x = (b - np.matmul((L + U), x)) / D\n",
    "    return x\n",
    "\n",
    "def prima_metoda(a, b):\n",
    "    x = np.linalg.solve(a, b)\n",
    "\n",
    "matrix_sizes = np.arange(10, 201, 10)\n",
    "\n",
    "matrices = []\n",
    "execution_times_prima = []\n",
    "execution_times_jacobi = []\n",
    "\n",
    "for size in matrix_sizes:\n",
    "    a = np.random.randint(1, 11, size=(size, size))\n",
    "    b = np.random.randint(0, 11, size=(size, 1))\n",
    "    \n",
    "    time_prima = timeit.timeit(lambda: prima_metoda(a, b), number=1)\n",
    "    execution_times_prima.append(time_prima)\n",
    "    \n",
    "    time_jacobi = timeit.timeit(lambda: jacobi(a, b, 25), number=1)\n",
    "    execution_times_jacobi.append(time_jacobi)\n",
    "print(\"Sizes:\", matrix_sizes)\n",
    "print(\"Execution times for prima_metoda:\", execution_times_prima)\n",
    "print(\"Execution times for jacobi:\", execution_times_jacobi)\n"
   ]
  },
  {
   "cell_type": "code",
   "execution_count": 27,
   "metadata": {},
   "outputs": [
    {
     "name": "stdout",
     "output_type": "stream",
     "text": [
      "0.8459919752769458  Time taken using pure python function: 0.0019773000003624475\n",
      "0.8459919751167551 Time taken using numpy function: 0.00015970000094966963\n"
     ]
    }
   ],
   "source": [
    "## Intagrate a function.\n",
    "import numpy as np\n",
    "import timeit\n",
    "\n",
    "def function(x):\n",
    "    return np.sin(x) + np.log(x + 1)\n",
    "\n",
    "a=0\n",
    "b=1\n",
    "n=1000\n",
    "x = np.linspace(a, b, n)\n",
    "\n",
    "def trapezoidal_rule(f, a, b, n):\n",
    "    h = (b - a) / n  # Width of each interval\n",
    "    integral = (f(a) + f(b)) / 2  # Sum of the first and last terms\n",
    "    for i in range(1, n):\n",
    "        x = a + i * h\n",
    "        integral += f(x)\n",
    "    integral *= h\n",
    "    return integral\n",
    "\n",
    "\n",
    "time_trapezoidal_rule = timeit.timeit(lambda: trapezoidal_rule(function, a, b, n), number=1)\n",
    "time_np_rule = timeit.timeit(lambda: np.trapz(function(x), x), number=1)\n",
    "print(trapezoidal_rule(function, a, b, n), \" Time taken using pure python function:\", time_trapezoidal_rule)\n",
    "\n",
    "\n",
    "intergral_numpy = np.trapz(function(x), x)\n",
    "\n",
    "print(intergral_numpy, \"Time taken using numpy function:\", time_np_rule)\n",
    "    "
   ]
  },
  {
   "cell_type": "code",
   "execution_count": 73,
   "metadata": {},
   "outputs": [
    {
     "name": "stdout",
     "output_type": "stream",
     "text": [
      "time taken using scipy newton-raphson\n",
      "193 µs ± 34.1 µs per loop (mean ± std. dev. of 7 runs, 1 loop each)\n",
      "time with pure python newton_raphson function: 1.080000220099464e-05\n",
      "Time taken using scipy: <module 'time' (built-in)>\n"
     ]
    }
   ],
   "source": [
    "import scipy\n",
    "\n",
    "polynomial_func = lambda x: 4*x**3 -  x**2 + 3*x - 2\n",
    "x=0\n",
    "\n",
    "def newton_raphson(f, x, error, max_steps):\n",
    "    start_time = timeit.default_timer()\n",
    "    def df(x):\n",
    "        h = 0.001\n",
    "        return (f(x+h)-f(x-h))/(2*h)\n",
    "\n",
    "    for i in range(max_steps):\n",
    "        xnew = x - f(x)/df(x)\n",
    "        if abs(xnew-x) < error:\n",
    "            break\n",
    "        x=xnew\n",
    "    end_time = timeit.default_timer()\n",
    "    return xnew, end_time - start_time\n",
    "\n",
    "print(\"time taken using scipy newton-raphson\")\n",
    "%timeit scipy.optimize.newton(polynomial_func, 0)\n",
    "\n",
    "print(\"time with pure python newton_raphson function:\", newton_raphson(polynomial_func, 0, 0.001, 10000)[1])\n",
    "print(\"Time taken using scipy:\", time)\n"
   ]
  }
 ],
 "metadata": {
  "kernelspec": {
   "display_name": "Python 3 (ipykernel)",
   "language": "python",
   "name": "python3"
  },
  "language_info": {
   "codemirror_mode": {
    "name": "ipython",
    "version": 3
   },
   "file_extension": ".py",
   "mimetype": "text/x-python",
   "name": "python",
   "nbconvert_exporter": "python",
   "pygments_lexer": "ipython3",
   "version": "3.11.5"
  }
 },
 "nbformat": 4,
 "nbformat_minor": 4
}
