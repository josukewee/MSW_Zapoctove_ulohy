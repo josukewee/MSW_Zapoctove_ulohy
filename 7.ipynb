{
 "cells": [
  {
   "cell_type": "code",
   "execution_count": 25,
   "metadata": {},
   "outputs": [
    {
     "name": "stdout",
     "output_type": "stream",
     "text": [
      "[('5', 'hearts'), ('7', 'spades'), ('4', 'spades'), ('6', 'clubs'), ('3', 'clubs'), ('Q', 'spades'), ('2', 'diamonds'), ('7', 'hearts'), ('5', 'spades'), ('8', 'diamonds'), ('6', 'spades'), ('9', 'hearts'), ('8', 'hearts'), ('2', 'clubs'), ('Q', 'diamonds'), ('8', 'clubs'), ('4', 'hearts'), ('J', 'spades'), ('A', 'hearts'), ('5', 'clubs'), ('2', 'spades'), ('J', 'clubs'), ('6', 'hearts'), ('7', 'diamonds'), ('K', 'spades'), ('5', 'diamonds'), ('2', 'hearts'), ('Q', 'clubs'), ('6', 'diamonds'), ('4', 'clubs'), ('9', 'diamonds'), ('10', 'hearts'), ('K', 'clubs'), ('J', 'diamonds'), ('10', 'spades'), ('A', 'clubs'), ('8', 'spades'), ('9', 'clubs'), ('10', 'diamonds'), ('4', 'diamonds'), ('A', 'spades'), ('7', 'clubs'), ('3', 'hearts'), ('J', 'hearts'), ('K', 'diamonds'), ('A', 'diamonds'), ('3', 'diamonds'), ('10', 'clubs'), ('3', 'spades'), ('9', 'spades'), ('K', 'hearts'), ('Q', 'hearts')]\n",
      "Probabily that you will have 21 from first 2 cards is: 0.0469\n"
     ]
    }
   ],
   "source": [
    "import random\n",
    "import numpy as np\n",
    "     \n",
    "\n",
    "colors = ['hearts', 'diamonds', 'clubs', 'spades']\n",
    "numbers = ['2', '3', '4', '5', '6', '7', '8', '9', '10', 'J', 'Q', 'K', 'A']\n",
    "all_combinations = [(number, color) for number in numbers for color in colors]\n",
    "\n",
    "number_of_simulations = 10000\n",
    "twenty_one_count = 0\n",
    "\n",
    "\n",
    "def number_to_points(number):\n",
    "    if number.isdigit():\n",
    "        return int(number)\n",
    "    elif number in [\"J\", \"Q\", \"K\"]:\n",
    "        return 10   \n",
    "    elif number == \"A\":\n",
    "            return 11\n",
    "    else:\n",
    "         ValueError(\"something went wrong\")\n",
    "\n",
    "\n",
    "for _ in range(number_of_simulations):\n",
    "    random.shuffle(all_combinations)\n",
    "    ruka = all_combinations[:2] ## taking 2 random card as if it would be handed to me from dealer\n",
    "\n",
    "    if number_to_points(ruka[0][0]) + number_to_points(ruka[1][0]) == 21:\n",
    "        twenty_one_count += 1\n",
    "\n",
    "# # pravděpodobnost páru\n",
    "probability = twenty_one_count / number_of_simulations\n",
    "print(f\"Probabily that you will have 21 from first 2 cards is: {probability}\")"
   ]
  }
 ],
 "metadata": {
  "kernelspec": {
   "display_name": "MSW_Zapoctove_ulohy",
   "language": "python",
   "name": "python3"
  },
  "language_info": {
   "codemirror_mode": {
    "name": "ipython",
    "version": 3
   },
   "file_extension": ".py",
   "mimetype": "text/x-python",
   "name": "python",
   "nbconvert_exporter": "python",
   "pygments_lexer": "ipython3",
   "version": "3.11.9"
  }
 },
 "nbformat": 4,
 "nbformat_minor": 2
}
